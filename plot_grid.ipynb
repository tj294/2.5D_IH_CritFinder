{
 "cells": [
  {
   "cell_type": "code",
   "execution_count": null,
   "metadata": {},
   "outputs": [],
   "source": [
    "import matplotlib.pyplot as plt\n",
    "import numpy as np\n",
    "import h5py as h5\n",
    "from scipy import optimize, interpolate\n",
    "import eigentools\n",
    "from eigentools import CriticalFinder\n",
    "from matplotlib import transforms"
   ]
  },
  {
   "cell_type": "code",
   "execution_count": null,
   "metadata": {},
   "outputs": [],
   "source": [
    "grid_name = \"Ta1e4_grid.h5\"\n",
    "# grid_name = \"rb_eigen_stress_free.h5\"\n",
    "with h5.File(grid_name, 'r') as f:\n",
    "    parameter_grids = [k[()] for k in f.values() if 'xyz' in k.name]\n",
    "    data = np.array(f['grid'])\n",
    "\n",
    "yy = parameter_grids[1]\n",
    "xx = parameter_grids[0]\n",
    "\n",
    "grid = np.zeros(xx.shape, dtype=np.complex128)\n",
    "grid = data.real"
   ]
  },
  {
   "cell_type": "code",
   "execution_count": null,
   "metadata": {},
   "outputs": [],
   "source": [
    "fig, ax = plt.subplots(1, 1, figsize=(6, 6))\n",
    "\n",
    "biggest_val = 2*np.abs(grid).std()\n",
    "print(biggest_val)\n",
    "cbbox = transforms.Bbox.from_bounds(0.03, 0.95, 0.94, 0.05)\n",
    "pbbox = transforms.Bbox.from_bounds(0.03, 0, 0.94, 0.94)\n",
    "\n",
    "to_axes_bbox = transforms.BboxTransformTo(ax.get_position())\n",
    "cbbox = cbbox.transformed(to_axes_bbox)\n",
    "pbbox = pbbox.transformed(to_axes_bbox)\n",
    "cax = ax.figure.add_axes(cbbox)\n",
    "pax = ax.figure.add_axes(pbbox)\n",
    "\n",
    "plot = pax.pcolormesh(xx.T, yy.T, grid.T, cmap='RdBu_r', vmin=-biggest_val, vmax=biggest_val)\n",
    "ax.axis('off')\n",
    "cbar = plt.colorbar(plot, cax=cax, label=\"Growth Rate\", orientation='horizontal')\n",
    "cbar.outline.set_visible(False)\n",
    "cax.xaxis.set_ticks_position('top')\n",
    "cax.xaxis.set_label_position('top')\n",
    "\n",
    "pax.set_ylim(yy.min(), yy.max())\n",
    "pax.set_xlim(xx.min(), xx.max())\n",
    "pax.set_xlabel('k')\n",
    "pax.set_ylabel('Ra')"
   ]
  },
  {
   "cell_type": "code",
   "execution_count": null,
   "metadata": {},
   "outputs": [],
   "source": []
  }
 ],
 "metadata": {
  "kernelspec": {
   "display_name": "dedalus2",
   "language": "python",
   "name": "python3"
  },
  "language_info": {
   "codemirror_mode": {
    "name": "ipython",
    "version": 3
   },
   "file_extension": ".py",
   "mimetype": "text/x-python",
   "name": "python",
   "nbconvert_exporter": "python",
   "pygments_lexer": "ipython3",
   "version": "3.12.0"
  }
 },
 "nbformat": 4,
 "nbformat_minor": 2
}
